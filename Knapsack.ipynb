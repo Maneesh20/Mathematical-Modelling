{
  "nbformat": 4,
  "nbformat_minor": 0,
  "metadata": {
    "colab": {
      "name": "Knapsack.ipynb",
      "provenance": []
    },
    "kernelspec": {
      "name": "python3",
      "display_name": "Python 3"
    },
    "language_info": {
      "name": "python"
    }
  },
  "cells": [
    {
      "cell_type": "markdown",
      "metadata": {
        "id": "QboDAThjMv41"
      },
      "source": [
        "## **Knapsack Problem**"
      ]
    },
    {
      "cell_type": "markdown",
      "metadata": {
        "id": "H__3H4YOM-bF"
      },
      "source": [
        "This notebook solves the 0-1 Knapsack Problem in two different ways.\n",
        "\n",
        "1. **Greedy Algorithm:** Here we select the items in three ways. We give more importance to either weight, value or density(value/weight) of the items. All the three instances have been solved.\n",
        "\n",
        "2. **Gurobipy:** Here we use external optimization package known as Gurobi and find te optimal selection of items with the use of binary constriants. "
      ]
    },
    {
      "cell_type": "code",
      "metadata": {
        "id": "0ITuBzoD2HBK"
      },
      "source": [
        "import numpy as np\n",
        "np.random.seed(1) # random number generator"
      ],
      "execution_count": 1,
      "outputs": []
    },
    {
      "cell_type": "code",
      "metadata": {
        "id": "_-trYtxP-BjK"
      },
      "source": [
        "number_of_items = 100 \n",
        "weights_mu, weights_sigma = 30, 4  # weights mean and standard deviation\n",
        "weights = abs(np.around(np.random.normal(weights_mu, weights_sigma, number_of_items),2))  # item weights normally distributed\n",
        "values_mu, values_sigma = 70, 10  # values mean and standard deviation\n",
        "values = abs(np.around(np.random.normal(values_mu, values_sigma, number_of_items),2))  # item values normally distributed\n",
        "maximum_weight = 250  # maximum weight which is allowed to select \n",
        "density = [i/j for i,j in zip(values, weights)]  # density = value/weight"
      ],
      "execution_count": null,
      "outputs": []
    },
    {
      "cell_type": "markdown",
      "metadata": {
        "id": "T-cF2GtMPPA_"
      },
      "source": [
        "**Greedy Algorithm Implementation**"
      ]
    },
    {
      "cell_type": "code",
      "metadata": {
        "id": "yrhe9bAh_iZL"
      },
      "source": [
        "# Greedy Algo\n",
        "input = []\n",
        "for i in range(number_of_items):\n",
        "  input.append([i,values[i],weights[i],density[i]])\n",
        "\n",
        "def greedy(input, maximum_weight, parameter):\n",
        "  if parameter == \"weight\":\n",
        "    new_input = sorted(input, key = lambda x: x[2])\n",
        "  elif parameter == \"value\":\n",
        "    new_input = sorted(input, key = lambda x: x[1], reverse = True) \n",
        "  elif parameter == \"density\":\n",
        "    new_input = sorted(input, key = lambda x: x[3], reverse = True)\n",
        "\n",
        "  result = []\n",
        "  total_value = 0\n",
        "  total_weight = 0\n",
        "\n",
        "  for i in range(len(new_input)):\n",
        "    if total_weight + new_input[i][2] <= maximum_weight:\n",
        "      total_value += new_input[i][1]\n",
        "      total_weight += new_input[i][2]\n",
        "      result.append(new_input[i])\n",
        "  return result, total_value\n",
        "\n",
        "\n",
        "def testGreedy(input, maximum_weight, parameter):\n",
        "  result, total_value = greedy(input, maximum_weight, parameter)\n",
        "  if parameter == \"value\":\n",
        "    print('Using Greedy by Value of the item to allocate a maximum weight of', maximum_weight)\n",
        "  elif parameter == \"weight\":\n",
        "    print('Using Greedy by Weight of the item to allocate a maximum weight of', maximum_weight)\n",
        "  elif parameter == \"density\":\n",
        "    print('Using Greedy by Density(value/weight) of the item to allocate a maximum weight of', maximum_weight)\n",
        "  print('Total value of items:', total_value)\n",
        "  print('Number of items selected:', len(result))\n",
        "  for item in range(len(result)):\n",
        "    print('Item' + str(result[item][0]) + ': ' + 'Value = ' + str(result[item][1]) + ', ' + 'Weight = ' + str(result[item][2]))\n",
        "\n",
        "\n",
        "def greedyTesting(input, maximum_weight):\n",
        "  testGreedy(input, maximum_weight, \"value\")\n",
        "  print('\\n')\n",
        "  testGreedy(input, maximum_weight, \"weight\")\n",
        "  print('\\n')\n",
        "  testGreedy(input, maximum_weight, \"density\")"
      ],
      "execution_count": null,
      "outputs": []
    },
    {
      "cell_type": "code",
      "metadata": {
        "colab": {
          "base_uri": "https://localhost:8080/"
        },
        "id": "i5OnUvq3n2H7",
        "outputId": "9a82ce6b-7b44-4b57-b372-e08fbfae44c4"
      },
      "source": [
        "greedyTesting(input, maximum_weight)"
      ],
      "execution_count": null,
      "outputs": [
        {
          "output_type": "stream",
          "text": [
            "Using Greedy by Value of the item to allocate a maximum weight of 250\n",
            "Total value of items: 710.3000000000002\n",
            "Number of items selected: 8\n",
            "Item72: Value = 95.28, Weight = 30.64\n",
            "Item68: Value = 91.91, Weight = 38.74\n",
            "Item53: Value = 91.87, Weight = 28.6\n",
            "Item23: Value = 89.67, Weight = 32.01\n",
            "Item92: Value = 89.05, Weight = 28.5\n",
            "Item26: Value = 86.28, Weight = 29.51\n",
            "Item76: Value = 83.31, Weight = 28.78\n",
            "Item83: Value = 82.93, Weight = 31.64\n",
            "\n",
            "\n",
            "Using Greedy by Weight of the item to allocate a maximum weight of 250\n",
            "Total value of items: 685.3199999999999\n",
            "Number of items selected: 10\n",
            "Item5: Value = 71.69, Weight = 20.79\n",
            "Item11: Value = 73.15, Weight = 21.76\n",
            "Item75: Value = 67.74, Weight = 21.91\n",
            "Item70: Value = 63.53, Weight = 24.22\n",
            "Item69: Value = 51.04, Weight = 24.41\n",
            "Item52: Value = 80.39, Weight = 25.43\n",
            "Item36: Value = 75.21, Weight = 25.53\n",
            "Item15: Value = 56.88, Weight = 25.6\n",
            "Item20: Value = 69.75, Weight = 25.6\n",
            "Item3: Value = 75.94, Weight = 25.71\n",
            "\n",
            "\n",
            "Using Greedy by Density(value/weight) of the item to allocate a maximum weight of 250\n",
            "Total value of items: 733.7800000000001\n",
            "Number of items selected: 9\n",
            "Item5: Value = 71.69, Weight = 20.79\n",
            "Item11: Value = 73.15, Weight = 21.76\n",
            "Item53: Value = 91.87, Weight = 28.6\n",
            "Item52: Value = 80.39, Weight = 25.43\n",
            "Item92: Value = 89.05, Weight = 28.5\n",
            "Item72: Value = 95.28, Weight = 30.64\n",
            "Item75: Value = 67.74, Weight = 21.91\n",
            "Item25: Value = 82.36, Weight = 27.27\n",
            "Item1: Value = 82.25, Weight = 27.55\n"
          ],
          "name": "stdout"
        }
      ]
    },
    {
      "cell_type": "markdown",
      "metadata": {
        "id": "kvWrLKe5PiUR"
      },
      "source": [
        "**Gurobipy Implementation**"
      ]
    },
    {
      "cell_type": "code",
      "metadata": {
        "colab": {
          "base_uri": "https://localhost:8080/"
        },
        "id": "fuiEjVdgoP9B",
        "outputId": "1e5a35b0-ddb6-44fd-8131-74ea157becc7"
      },
      "source": [
        "# Gurobipy installation and importing\n",
        "%pip install -i https://pypi.gurobi.com gurobipy  \n",
        "import gurobipy as gp\n",
        "from gurobipy import *"
      ],
      "execution_count": null,
      "outputs": [
        {
          "output_type": "stream",
          "text": [
            "Looking in indexes: https://pypi.gurobi.com\n",
            "Requirement already satisfied: gurobipy in /usr/local/lib/python3.7/dist-packages (9.1.2)\n"
          ],
          "name": "stdout"
        }
      ]
    },
    {
      "cell_type": "code",
      "metadata": {
        "colab": {
          "base_uri": "https://localhost:8080/"
        },
        "id": "4PjAlcavtySG",
        "outputId": "e346739b-cf8c-4d82-a5d0-759e5f4e121d"
      },
      "source": [
        "# Initializing model\n",
        "optimization_model = gp.Model(\"Knapsack Problem\")\n",
        "\n",
        "# Declare decision variables\n",
        "x = optimization_model.addVars(number_of_items, vtype = GRB.BINARY, name = \"Option\")\n",
        "\n",
        "# Objective function\n",
        "optimization_model.setObjective(gp.quicksum(x[i]*values[i] for i in range(number_of_items)), GRB.MAXIMIZE)\n",
        "\n",
        "# Constraint\n",
        "optimization_model.addConstr(gp.quicksum(x[i]*weights[i] for i in range(number_of_items)) <= maximum_weight, name = \"Weight Constraint\")\n",
        "\n",
        "# Solving the model\n",
        "optimization_model.setParam('LogToConsole', 0)\n",
        "optimization_model.optimize()\n",
        "\n",
        "if optimization_model.status == GRB.OPTIMAL:\n",
        "  print(\"\\nOptimal Solution: %g\" % optimization_model.objVal)\n",
        "else: \n",
        "  print('Optimization Model Status %d' % optimization_model.status())\n",
        "\n",
        "# Items selected\n",
        "print(\"\\nSelected Items:\")\n",
        "count = 0\n",
        "for variables in optimization_model.getVars():\n",
        "  if variables.x > 0.0001:\n",
        "    count += 1\n",
        "    print(\"Item\" + str(variables.index) + \": \" + \"Value = \" + str(values[variables.index]) + \", \" + \"Weight = \" + str(weights[variables.index]))\n",
        "print('\\nNumber of items selected:', count)\n"
      ],
      "execution_count": null,
      "outputs": [
        {
          "output_type": "stream",
          "text": [
            "\n",
            "Optimal Solution: 770.93\n",
            "\n",
            "Selected Items:\n",
            "Item3: Value = 75.94, Weight = 25.71\n",
            "Item5: Value = 71.69, Weight = 20.79\n",
            "Item11: Value = 73.15, Weight = 21.76\n",
            "Item25: Value = 82.36, Weight = 27.27\n",
            "Item36: Value = 75.21, Weight = 25.53\n",
            "Item52: Value = 80.39, Weight = 25.43\n",
            "Item53: Value = 91.87, Weight = 28.6\n",
            "Item70: Value = 63.53, Weight = 24.22\n",
            "Item75: Value = 67.74, Weight = 21.91\n",
            "Item92: Value = 89.05, Weight = 28.5\n",
            "\n",
            "Number of items selected: 10\n"
          ],
          "name": "stdout"
        }
      ]
    }
  ]
}